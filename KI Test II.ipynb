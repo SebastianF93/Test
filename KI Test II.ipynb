{
  "nbformat": 4,
  "nbformat_minor": 0,
  "metadata": {
    "colab": {
      "name": "Untitled0.ipynb",
      "version": "0.3.2",
      "provenance": [],
      "include_colab_link": true
    },
    "kernelspec": {
      "name": "python3",
      "display_name": "Python 3"
    }
  },
  "cells": [
    {
      "cell_type": "markdown",
      "metadata": {
        "id": "view-in-github",
        "colab_type": "text"
      },
      "source": [
        "<a href=\"https://colab.research.google.com/github/SebastianF93/Test/blob/master/KI%20Test%20II.ipynb\" target=\"_parent\"><img src=\"https://colab.research.google.com/assets/colab-badge.svg\" alt=\"Open In Colab\"/></a>"
      ]
    },
    {
      "cell_type": "code",
      "metadata": {
        "id": "FnxQ1BANmFvy",
        "colab_type": "code",
        "colab": {
          "base_uri": "https://localhost:8080/",
          "height": 714
        },
        "outputId": "34b5861e-95d6-4a37-c4df-ed41a94ad57a"
      },
      "source": [
        "import tensorflow as tf\n",
        "mnist = tf.keras.datasets.fashion_mnist\n",
        "(training_images, training_labels), (test_images,test_labels) = mnist.load_data()\n",
        "\n",
        "training_images = training_images.reshape(60000, 28, 28, 1)\n",
        "training_images = training_images / 255.0\n",
        "test_images = test_images.reshape(10000, 28, 28, 1)\n",
        "test_images = test_images / 255.0\n",
        "\n",
        "model = tf.keras.models.Sequential ([\n",
        "    tf.keras.layers.Flatten(),\n",
        "    tf.keras.layers.Dense(128, activation='relu'),\n",
        "    tf.keras.layers.Dense(10, activation='softmax')\n",
        "])\n",
        "\n",
        "model.compile(optimizer='adam', loss='sparse_categorical_crossentropy', metrics=['accuracy'])\n",
        "model.fit(training_images, training_labels, epochs=20)"
      ],
      "execution_count": 11,
      "outputs": [
        {
          "output_type": "stream",
          "text": [
            "Epoch 1/20\n",
            "60000/60000 [==============================] - 7s 109us/sample - loss: 0.5031 - acc: 0.8239\n",
            "Epoch 2/20\n",
            "60000/60000 [==============================] - 6s 107us/sample - loss: 0.3795 - acc: 0.8643\n",
            "Epoch 3/20\n",
            "60000/60000 [==============================] - 6s 107us/sample - loss: 0.3409 - acc: 0.8756\n",
            "Epoch 4/20\n",
            "60000/60000 [==============================] - 7s 109us/sample - loss: 0.3157 - acc: 0.8828\n",
            "Epoch 5/20\n",
            "60000/60000 [==============================] - 6s 107us/sample - loss: 0.2973 - acc: 0.8906\n",
            "Epoch 6/20\n",
            "60000/60000 [==============================] - 6s 106us/sample - loss: 0.2824 - acc: 0.8946\n",
            "Epoch 7/20\n",
            "60000/60000 [==============================] - 6s 107us/sample - loss: 0.2706 - acc: 0.8998\n",
            "Epoch 8/20\n",
            "60000/60000 [==============================] - 6s 107us/sample - loss: 0.2576 - acc: 0.9041\n",
            "Epoch 9/20\n",
            "60000/60000 [==============================] - 7s 109us/sample - loss: 0.2490 - acc: 0.9069\n",
            "Epoch 10/20\n",
            "60000/60000 [==============================] - 6s 108us/sample - loss: 0.2408 - acc: 0.9102\n",
            "Epoch 11/20\n",
            "60000/60000 [==============================] - 7s 111us/sample - loss: 0.2335 - acc: 0.9127\n",
            "Epoch 12/20\n",
            "60000/60000 [==============================] - 7s 118us/sample - loss: 0.2233 - acc: 0.9164\n",
            "Epoch 13/20\n",
            "60000/60000 [==============================] - 6s 107us/sample - loss: 0.2196 - acc: 0.9186\n",
            "Epoch 14/20\n",
            "60000/60000 [==============================] - 6s 106us/sample - loss: 0.2107 - acc: 0.9215\n",
            "Epoch 15/20\n",
            "60000/60000 [==============================] - 6s 107us/sample - loss: 0.2066 - acc: 0.9232\n",
            "Epoch 16/20\n",
            "60000/60000 [==============================] - 6s 106us/sample - loss: 0.1989 - acc: 0.9252\n",
            "Epoch 17/20\n",
            "60000/60000 [==============================] - 6s 105us/sample - loss: 0.1940 - acc: 0.9284\n",
            "Epoch 18/20\n",
            "60000/60000 [==============================] - 7s 108us/sample - loss: 0.1907 - acc: 0.9290\n",
            "Epoch 19/20\n",
            "60000/60000 [==============================] - 7s 108us/sample - loss: 0.1833 - acc: 0.9320\n",
            "Epoch 20/20\n",
            "60000/60000 [==============================] - 6s 104us/sample - loss: 0.1791 - acc: 0.9340\n"
          ],
          "name": "stdout"
        },
        {
          "output_type": "execute_result",
          "data": {
            "text/plain": [
              "<tensorflow.python.keras.callbacks.History at 0x7f875d9f1208>"
            ]
          },
          "metadata": {
            "tags": []
          },
          "execution_count": 11
        }
      ]
    },
    {
      "cell_type": "code",
      "metadata": {
        "id": "a9ilZZzjvEH3",
        "colab_type": "code",
        "colab": {}
      },
      "source": [
        "''"
      ],
      "execution_count": 0,
      "outputs": []
    }
  ]
}